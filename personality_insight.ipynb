{
 "cells": [
  {
   "cell_type": "code",
   "execution_count": 7,
   "metadata": {},
   "outputs": [],
   "source": [
    "import json\n",
    "import os\n",
    "from os.path import join\n",
    "from ibm_watson import PersonalityInsightsV3\n",
    "import csv\n",
    "from ibm_cloud_sdk_core.authenticators import IAMAuthenticator\n",
    "from dotenv import load_dotenv"
   ]
  },
  {
   "cell_type": "code",
   "execution_count": 20,
   "metadata": {},
   "outputs": [],
   "source": [
    "#Load env variables\n",
    "load_dotenv()\n",
    "API_KEY = os.getenv('PERSONALITY_INSIGHTS_IAM_APIKEY')\n",
    "API_URL = os.getenv('PERSONALITY_INSIGHTS_URL')\n",
    "authenticator = IAMAuthenticator('API_KEY')\n",
    "personality_insights = PersonalityInsightsV3(\n",
    "    version='2018-08-01',\n",
    "    authenticator=authenticator\n",
    ")\n",
    "\n",
    "personality_insights.set_service_url('API_URL')"
   ]
  },
  {
   "cell_type": "code",
   "execution_count": null,
   "metadata": {},
   "outputs": [],
   "source": []
  }
 ],
 "metadata": {
  "kernelspec": {
   "display_name": "Python 3",
   "language": "python",
   "name": "python3"
  },
  "language_info": {
   "codemirror_mode": {
    "name": "ipython",
    "version": 3
   },
   "file_extension": ".py",
   "mimetype": "text/x-python",
   "name": "python",
   "nbconvert_exporter": "python",
   "pygments_lexer": "ipython3",
   "version": "3.7.4"
  }
 },
 "nbformat": 4,
 "nbformat_minor": 2
}
